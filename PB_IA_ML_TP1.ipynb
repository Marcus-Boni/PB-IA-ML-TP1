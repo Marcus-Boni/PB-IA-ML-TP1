{
 "cells": [
  {
   "cell_type": "markdown",
   "id": "43b67101",
   "metadata": {},
   "source": [
    "# TP1 Projeto de Bloco: Classificação de Doenças Cardíacas com KNN\n",
    "\n",
    "Este projeto propõe uma experiência prática em Inteligência Artificial (IA) e Machine Learning (ML), permitindo a aplicação de conceitos e técnicas adquiridos em disciplinas regulares num contexto de dados reais."
   ]
  },
  {
   "cell_type": "markdown",
   "id": "0f72c8e8",
   "metadata": {},
   "source": [
    "## 1. Carregamento de Dados\n",
    "\n"
   ]
  },
  {
   "cell_type": "code",
   "execution_count": null,
   "id": "e6fd2f0a",
   "metadata": {},
   "outputs": [],
   "source": [
    "import pandas as pd\n",
    "import numpy as np\n",
    "from sklearn.model_selection import train_test_split\n",
    "from sklearn.preprocessing import StandardScaler, OneHotEncoder\n",
    "from sklearn.compose import ColumnTransformer\n",
    "from sklearn.neighbors import KNeighborsClassifier\n",
    "from sklearn.metrics import accuracy_score\n",
    "from sklearn.pipeline import Pipeline\n",
    "import matplotlib.pyplot as plt\n",
    "\n",
    "pd.set_option('display.max_columns', None)\n",
    "pd.set_option('display.width', 1000)"
   ]
  },
  {
   "cell_type": "code",
   "execution_count": null,
   "id": "d95db7d1",
   "metadata": {},
   "outputs": [],
   "source": [
    "try:\n",
    "    df = pd.read_csv('heart.csv')\n",
    "except FileNotFoundError:\n",
    "    print(\"Erro: O arquivo 'heart.csv' não foi encontrado. Verifique o caminho do arquivo.\")\n",
    "\n",
    "\n",
    "print(\"Primeiras 5 linhas do dataset:\")\n",
    "print(df.head())\n",
    "print(\"\\nInformações do dataset:\")\n",
    "df.info()\n",
    "print(\"\\nDescrição estatística do dataset (numérico):\")\n",
    "print(df.describe())\n",
    "print(\"\\nDescrição estatística do dataset (categórico):\")\n",
    "print(df.describe(include='object'))\n",
    "print(\"\\nContagem de valores nulos por coluna:\")\n",
    "print(df.isnull().sum())"
   ]
  },
  {
   "cell_type": "markdown",
   "id": "23e5a426",
   "metadata": {},
   "source": [
    "### Identificando Features e Target\n"
   ]
  },
  {
   "cell_type": "code",
   "execution_count": null,
   "id": "a8345e0c",
   "metadata": {},
   "outputs": [],
   "source": [
    "X = df.drop('HeartDisease', axis=1)\n",
    "y = df['HeartDisease']\n",
    "\n",
    "print(\"Shape das Features (X):\", X.shape)\n",
    "print(\"Shape do Target (y):\", y.shape)\n",
    "print(\"\\nPrimeiras 5 linhas das Features (X):\")\n",
    "print(X.head())\n",
    "print(\"\\nPrimeiras 5 ocorrências do Target (y):\")\n",
    "print(y.head())"
   ]
  },
  {
   "cell_type": "markdown",
   "id": "d3504b23",
   "metadata": {},
   "source": [
    "## 2. Divisão de Dados\n"
   ]
  },
  {
   "cell_type": "code",
   "execution_count": null,
   "id": "0f056233",
   "metadata": {},
   "outputs": [],
   "source": [
    "X_train, X_val, y_train, y_val = train_test_split(X, y, test_size=0.2, random_state=42, stratify=y)\n",
    "\n",
    "print(\"Shape de X_train:\", X_train.shape)\n",
    "print(\"Shape de X_val:\", X_val.shape)\n",
    "print(\"Shape de y_train:\", y_train.shape)\n",
    "print(\"Shape de y_val:\", y_val.shape)\n",
    "\n",
    "print(\"\\nProporção do target no conjunto de treino:\")\n",
    "print(y_train.value_counts(normalize=True))\n",
    "print(\"\\nProporção do target no conjunto de validação:\")\n",
    "print(y_val.value_counts(normalize=True))"
   ]
  },
  {
   "cell_type": "markdown",
   "id": "8934a839",
   "metadata": {},
   "source": [
    "## 3. Transformação de Dados"
   ]
  },
  {
   "cell_type": "code",
   "execution_count": null,
   "id": "5723192d",
   "metadata": {},
   "outputs": [],
   "source": [
    "numerical_features = X_train.select_dtypes(include=np.number).columns.tolist()\n",
    "categorical_features = X_train.select_dtypes(include='object').columns.tolist()\n",
    "\n",
    "print(\"Colunas Numéricas:\", numerical_features)\n",
    "print(\"Colunas Categóricas:\", categorical_features)\n",
    "\n",
    "preprocessor = ColumnTransformer(\n",
    "    transformers=[\n",
    "        ('num', StandardScaler(), numerical_features),\n",
    "        ('cat', OneHotEncoder(handle_unknown='ignore', drop='first'), categorical_features) \n",
    "    ],\n",
    "    remainder='passthrough' \n",
    ")"
   ]
  },
  {
   "cell_type": "markdown",
   "id": "bf0039ce",
   "metadata": {},
   "source": [
    "## 4. Modelagem de K-Nearest Neighbors (KNN)\n"
   ]
  },
  {
   "cell_type": "code",
   "execution_count": null,
   "id": "12ef1f13",
   "metadata": {},
   "outputs": [],
   "source": [
    "initial_k = 5\n",
    "knn_pipeline = Pipeline(steps=[\n",
    "    ('preprocessor', preprocessor),\n",
    "    ('classifier', KNeighborsClassifier(n_neighbors=initial_k))\n",
    "])\n",
    "\n",
    "knn_pipeline.fit(X_train, y_train)\n",
    "\n",
    "print(f\"Modelo KNN treinado com K={initial_k}.\")"
   ]
  },
  {
   "cell_type": "markdown",
   "id": "19664730",
   "metadata": {},
   "source": [
    "## 5. Avaliação de Modelos\n",
    "\n"
   ]
  },
  {
   "cell_type": "code",
   "execution_count": null,
   "id": "1f7a82b9",
   "metadata": {},
   "outputs": [],
   "source": [
    "y_pred_val = knn_pipeline.predict(X_val)\n",
    "\n",
    "accuracy = accuracy_score(y_val, y_pred_val)\n",
    "print(f\"Acurácia do modelo KNN (K={initial_k}) no conjunto de validação: {accuracy:.4f}\")"
   ]
  },
  {
   "cell_type": "markdown",
   "id": "4aab4324",
   "metadata": {},
   "source": [
    "## 6. Análise de Parâmetros"
   ]
  },
  {
   "cell_type": "code",
   "execution_count": null,
   "id": "88e57ab0",
   "metadata": {},
   "outputs": [],
   "source": [
    "k_values = range(1, 26) \n",
    "accuracies = []\n",
    "\n",
    "print(\"Analisando diferentes valores de K:\")\n",
    "for k in k_values:\n",
    "    current_knn_pipeline = Pipeline(steps=[\n",
    "        ('preprocessor', preprocessor),\n",
    "        ('classifier', KNeighborsClassifier(n_neighbors=k))\n",
    "    ])\n",
    "    current_knn_pipeline.fit(X_train, y_train)\n",
    "    \n",
    "    y_pred_k = current_knn_pipeline.predict(X_val)\n",
    "    acc_k = accuracy_score(y_val, y_pred_k)\n",
    "    accuracies.append(acc_k)\n",
    "    print(f\"K = {k:2d}, Acurácia = {acc_k:.4f}\")\n",
    "\n",
    "best_k_index = np.argmax(accuracies)\n",
    "best_k_value = k_values[best_k_index]\n",
    "best_accuracy = accuracies[best_k_index]\n",
    "\n",
    "print(f\"\\nMelhor valor de K encontrado: {best_k_value}\")\n",
    "print(f\"Acurácia correspondente: {best_accuracy:.4f}\")"
   ]
  },
  {
   "cell_type": "code",
   "execution_count": null,
   "id": "8cd1b8b4",
   "metadata": {},
   "outputs": [],
   "source": [
    "plt.figure(figsize=(12, 7))\n",
    "plt.plot(k_values, accuracies, marker='o', linestyle='-', color='b', mfc='red')\n",
    "plt.title('Acurácia do KNN vs. Valor de K no Conjunto de Validação', fontsize=15)\n",
    "plt.xlabel('Valor de K (Número de Vizinhos)', fontsize=12)\n",
    "plt.ylabel('Acurácia', fontsize=12)\n",
    "plt.xticks(k_values)\n",
    "plt.grid(True, linestyle='--', alpha=0.7)\n",
    "plt.axvline(best_k_value, color='green', linestyle=':', label=f'Melhor K = {best_k_value} (Acurácia: {best_accuracy:.4f})')\n",
    "plt.legend()\n",
    "plt.show()"
   ]
  },
  {
   "cell_type": "markdown",
   "id": "19da2d3d",
   "metadata": {},
   "source": [
    "## 7. Conclusão\n",
    "\n",
    "Neste projeto, foi realizada as seguintes etapas:\n",
    "1.  **Carregamento e Análise Inicial dos Dados**: Foi carregado o dataset `heart.csv`, verificado sua estrutura, tipos de dados e valores ausentes.\n",
    "2.  **Divisão dos Dados**: Foi separado os dados em conjuntos de treinamento (80%) e validação (20%), utilizando estratificação para manter a proporção das classes do alvo.\n",
    "3.  **Transformação de Dados**: Foi identificado features numéricas e categóricas. Criado um pipeline de pré-processamento usando `ColumnTransformer` para aplicar `StandardScaler` às features numéricas e `OneHotEncoder` (com `drop='first'`) às features categóricas.\n",
    "4.  **Modelagem com KNN**: Foi implementado o K-Nearest Neighbors dentro de um `Pipeline` do Scikit-Learn, começando com K=5.\n",
    "5.  **Avaliação Inicial**: Foi avaliado o modelo inicial no conjunto de validação usando a métrica de acurácia.\n",
    "6.  **Análise de Parâmetros**: Iterei por uma faixa de valores de K (1 a 25), treinei e avaliei o modelo KNN para cada K, e plotei a acurácia em função de K. Isso permitiu identificar o valor de K que resultou na maior acurácia no conjunto de validação.\n"
   ]
  }
 ],
 "metadata": {
  "language_info": {
   "name": "python"
  }
 },
 "nbformat": 4,
 "nbformat_minor": 5
}
